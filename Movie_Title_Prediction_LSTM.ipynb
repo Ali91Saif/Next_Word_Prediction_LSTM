{
  "nbformat": 4,
  "nbformat_minor": 0,
  "metadata": {
    "colab": {
      "provenance": [],
      "gpuType": "T4"
    },
    "kernelspec": {
      "name": "python3",
      "display_name": "Python 3"
    },
    "language_info": {
      "name": "python"
    },
    "accelerator": "GPU"
  },
  "cells": [
    {
      "cell_type": "markdown",
      "source": [
        "**Importing Libraries**"
      ],
      "metadata": {
        "id": "y-N8gv30e63F"
      }
    },
    {
      "cell_type": "code",
      "execution_count": 1,
      "metadata": {
        "id": "ba_an9p8ejnB"
      },
      "outputs": [],
      "source": [
        "import pandas as pd\n",
        "import numpy as np\n",
        "\n",
        "import tensorflow as tf"
      ]
    },
    {
      "cell_type": "markdown",
      "source": [
        "**Mounting Drive**"
      ],
      "metadata": {
        "id": "mxSUOTuXiePN"
      }
    },
    {
      "cell_type": "code",
      "source": [
        "from google.colab import drive\n",
        "drive.mount('/content/drive')"
      ],
      "metadata": {
        "colab": {
          "base_uri": "https://localhost:8080/"
        },
        "id": "3FUK2YbNfXzT",
        "outputId": "1cdc19cd-ed5d-4fe9-ea6b-7b085421a30f"
      },
      "execution_count": 3,
      "outputs": [
        {
          "output_type": "stream",
          "name": "stdout",
          "text": [
            "Mounted at /content/drive\n"
          ]
        }
      ]
    },
    {
      "cell_type": "markdown",
      "source": [
        "**Reading Data**"
      ],
      "metadata": {
        "id": "LyAPdBQ5ijFQ"
      }
    },
    {
      "cell_type": "code",
      "source": [
        "df = pd.read_csv('/content/drive/MyDrive/Movies_Title.csv')"
      ],
      "metadata": {
        "id": "gc3GhEIZfJBI"
      },
      "execution_count": 7,
      "outputs": []
    },
    {
      "cell_type": "code",
      "source": [
        "df.head()"
      ],
      "metadata": {
        "colab": {
          "base_uri": "https://localhost:8080/",
          "height": 730
        },
        "id": "_xG3h0okhg3U",
        "outputId": "de0890ae-b2e6-49fc-96eb-84814d431c65"
      },
      "execution_count": 8,
      "outputs": [
        {
          "output_type": "execute_result",
          "data": {
            "text/plain": [
              "      budget                                             genres  \\\n",
              "0  237000000  [{\"id\": 28, \"name\": \"Action\"}, {\"id\": 12, \"nam...   \n",
              "1  300000000  [{\"id\": 12, \"name\": \"Adventure\"}, {\"id\": 14, \"...   \n",
              "2  245000000  [{\"id\": 28, \"name\": \"Action\"}, {\"id\": 12, \"nam...   \n",
              "3  250000000  [{\"id\": 28, \"name\": \"Action\"}, {\"id\": 80, \"nam...   \n",
              "4  260000000  [{\"id\": 28, \"name\": \"Action\"}, {\"id\": 12, \"nam...   \n",
              "\n",
              "                                       homepage      id  \\\n",
              "0                   http://www.avatarmovie.com/   19995   \n",
              "1  http://disney.go.com/disneypictures/pirates/     285   \n",
              "2   http://www.sonypictures.com/movies/spectre/  206647   \n",
              "3            http://www.thedarkknightrises.com/   49026   \n",
              "4          http://movies.disney.com/john-carter   49529   \n",
              "\n",
              "                                            keywords original_language  \\\n",
              "0  [{\"id\": 1463, \"name\": \"culture clash\"}, {\"id\":...                en   \n",
              "1  [{\"id\": 270, \"name\": \"ocean\"}, {\"id\": 726, \"na...                en   \n",
              "2  [{\"id\": 470, \"name\": \"spy\"}, {\"id\": 818, \"name...                en   \n",
              "3  [{\"id\": 849, \"name\": \"dc comics\"}, {\"id\": 853,...                en   \n",
              "4  [{\"id\": 818, \"name\": \"based on novel\"}, {\"id\":...                en   \n",
              "\n",
              "                             original_title  \\\n",
              "0                                    Avatar   \n",
              "1  Pirates of the Caribbean: At World's End   \n",
              "2                                   Spectre   \n",
              "3                     The Dark Knight Rises   \n",
              "4                               John Carter   \n",
              "\n",
              "                                            overview  popularity  \\\n",
              "0  In the 22nd century, a paraplegic Marine is di...  150.437577   \n",
              "1  Captain Barbossa, long believed to be dead, ha...  139.082615   \n",
              "2  A cryptic message from Bond’s past sends him o...  107.376788   \n",
              "3  Following the death of District Attorney Harve...  112.312950   \n",
              "4  John Carter is a war-weary, former military ca...   43.926995   \n",
              "\n",
              "                                production_companies  \\\n",
              "0  [{\"name\": \"Ingenious Film Partners\", \"id\": 289...   \n",
              "1  [{\"name\": \"Walt Disney Pictures\", \"id\": 2}, {\"...   \n",
              "2  [{\"name\": \"Columbia Pictures\", \"id\": 5}, {\"nam...   \n",
              "3  [{\"name\": \"Legendary Pictures\", \"id\": 923}, {\"...   \n",
              "4        [{\"name\": \"Walt Disney Pictures\", \"id\": 2}]   \n",
              "\n",
              "                                production_countries release_date     revenue  \\\n",
              "0  [{\"iso_3166_1\": \"US\", \"name\": \"United States o...   2009-12-10  2787965087   \n",
              "1  [{\"iso_3166_1\": \"US\", \"name\": \"United States o...   2007-05-19   961000000   \n",
              "2  [{\"iso_3166_1\": \"GB\", \"name\": \"United Kingdom\"...   2015-10-26   880674609   \n",
              "3  [{\"iso_3166_1\": \"US\", \"name\": \"United States o...   2012-07-16  1084939099   \n",
              "4  [{\"iso_3166_1\": \"US\", \"name\": \"United States o...   2012-03-07   284139100   \n",
              "\n",
              "   runtime                                   spoken_languages    status  \\\n",
              "0    162.0  [{\"iso_639_1\": \"en\", \"name\": \"English\"}, {\"iso...  Released   \n",
              "1    169.0           [{\"iso_639_1\": \"en\", \"name\": \"English\"}]  Released   \n",
              "2    148.0  [{\"iso_639_1\": \"fr\", \"name\": \"Fran\\u00e7ais\"},...  Released   \n",
              "3    165.0           [{\"iso_639_1\": \"en\", \"name\": \"English\"}]  Released   \n",
              "4    132.0           [{\"iso_639_1\": \"en\", \"name\": \"English\"}]  Released   \n",
              "\n",
              "                                          tagline  \\\n",
              "0                     Enter the World of Pandora.   \n",
              "1  At the end of the world, the adventure begins.   \n",
              "2                           A Plan No One Escapes   \n",
              "3                                 The Legend Ends   \n",
              "4            Lost in our world, found in another.   \n",
              "\n",
              "                                      title  vote_average  vote_count  \n",
              "0                                    Avatar           7.2       11800  \n",
              "1  Pirates of the Caribbean: At World's End           6.9        4500  \n",
              "2                                   Spectre           6.3        4466  \n",
              "3                     The Dark Knight Rises           7.6        9106  \n",
              "4                               John Carter           6.1        2124  "
            ],
            "text/html": [
              "\n",
              "  <div id=\"df-6e641eca-a413-4f00-a5a3-86adabc85d00\" class=\"colab-df-container\">\n",
              "    <div>\n",
              "<style scoped>\n",
              "    .dataframe tbody tr th:only-of-type {\n",
              "        vertical-align: middle;\n",
              "    }\n",
              "\n",
              "    .dataframe tbody tr th {\n",
              "        vertical-align: top;\n",
              "    }\n",
              "\n",
              "    .dataframe thead th {\n",
              "        text-align: right;\n",
              "    }\n",
              "</style>\n",
              "<table border=\"1\" class=\"dataframe\">\n",
              "  <thead>\n",
              "    <tr style=\"text-align: right;\">\n",
              "      <th></th>\n",
              "      <th>budget</th>\n",
              "      <th>genres</th>\n",
              "      <th>homepage</th>\n",
              "      <th>id</th>\n",
              "      <th>keywords</th>\n",
              "      <th>original_language</th>\n",
              "      <th>original_title</th>\n",
              "      <th>overview</th>\n",
              "      <th>popularity</th>\n",
              "      <th>production_companies</th>\n",
              "      <th>production_countries</th>\n",
              "      <th>release_date</th>\n",
              "      <th>revenue</th>\n",
              "      <th>runtime</th>\n",
              "      <th>spoken_languages</th>\n",
              "      <th>status</th>\n",
              "      <th>tagline</th>\n",
              "      <th>title</th>\n",
              "      <th>vote_average</th>\n",
              "      <th>vote_count</th>\n",
              "    </tr>\n",
              "  </thead>\n",
              "  <tbody>\n",
              "    <tr>\n",
              "      <th>0</th>\n",
              "      <td>237000000</td>\n",
              "      <td>[{\"id\": 28, \"name\": \"Action\"}, {\"id\": 12, \"nam...</td>\n",
              "      <td>http://www.avatarmovie.com/</td>\n",
              "      <td>19995</td>\n",
              "      <td>[{\"id\": 1463, \"name\": \"culture clash\"}, {\"id\":...</td>\n",
              "      <td>en</td>\n",
              "      <td>Avatar</td>\n",
              "      <td>In the 22nd century, a paraplegic Marine is di...</td>\n",
              "      <td>150.437577</td>\n",
              "      <td>[{\"name\": \"Ingenious Film Partners\", \"id\": 289...</td>\n",
              "      <td>[{\"iso_3166_1\": \"US\", \"name\": \"United States o...</td>\n",
              "      <td>2009-12-10</td>\n",
              "      <td>2787965087</td>\n",
              "      <td>162.0</td>\n",
              "      <td>[{\"iso_639_1\": \"en\", \"name\": \"English\"}, {\"iso...</td>\n",
              "      <td>Released</td>\n",
              "      <td>Enter the World of Pandora.</td>\n",
              "      <td>Avatar</td>\n",
              "      <td>7.2</td>\n",
              "      <td>11800</td>\n",
              "    </tr>\n",
              "    <tr>\n",
              "      <th>1</th>\n",
              "      <td>300000000</td>\n",
              "      <td>[{\"id\": 12, \"name\": \"Adventure\"}, {\"id\": 14, \"...</td>\n",
              "      <td>http://disney.go.com/disneypictures/pirates/</td>\n",
              "      <td>285</td>\n",
              "      <td>[{\"id\": 270, \"name\": \"ocean\"}, {\"id\": 726, \"na...</td>\n",
              "      <td>en</td>\n",
              "      <td>Pirates of the Caribbean: At World's End</td>\n",
              "      <td>Captain Barbossa, long believed to be dead, ha...</td>\n",
              "      <td>139.082615</td>\n",
              "      <td>[{\"name\": \"Walt Disney Pictures\", \"id\": 2}, {\"...</td>\n",
              "      <td>[{\"iso_3166_1\": \"US\", \"name\": \"United States o...</td>\n",
              "      <td>2007-05-19</td>\n",
              "      <td>961000000</td>\n",
              "      <td>169.0</td>\n",
              "      <td>[{\"iso_639_1\": \"en\", \"name\": \"English\"}]</td>\n",
              "      <td>Released</td>\n",
              "      <td>At the end of the world, the adventure begins.</td>\n",
              "      <td>Pirates of the Caribbean: At World's End</td>\n",
              "      <td>6.9</td>\n",
              "      <td>4500</td>\n",
              "    </tr>\n",
              "    <tr>\n",
              "      <th>2</th>\n",
              "      <td>245000000</td>\n",
              "      <td>[{\"id\": 28, \"name\": \"Action\"}, {\"id\": 12, \"nam...</td>\n",
              "      <td>http://www.sonypictures.com/movies/spectre/</td>\n",
              "      <td>206647</td>\n",
              "      <td>[{\"id\": 470, \"name\": \"spy\"}, {\"id\": 818, \"name...</td>\n",
              "      <td>en</td>\n",
              "      <td>Spectre</td>\n",
              "      <td>A cryptic message from Bond’s past sends him o...</td>\n",
              "      <td>107.376788</td>\n",
              "      <td>[{\"name\": \"Columbia Pictures\", \"id\": 5}, {\"nam...</td>\n",
              "      <td>[{\"iso_3166_1\": \"GB\", \"name\": \"United Kingdom\"...</td>\n",
              "      <td>2015-10-26</td>\n",
              "      <td>880674609</td>\n",
              "      <td>148.0</td>\n",
              "      <td>[{\"iso_639_1\": \"fr\", \"name\": \"Fran\\u00e7ais\"},...</td>\n",
              "      <td>Released</td>\n",
              "      <td>A Plan No One Escapes</td>\n",
              "      <td>Spectre</td>\n",
              "      <td>6.3</td>\n",
              "      <td>4466</td>\n",
              "    </tr>\n",
              "    <tr>\n",
              "      <th>3</th>\n",
              "      <td>250000000</td>\n",
              "      <td>[{\"id\": 28, \"name\": \"Action\"}, {\"id\": 80, \"nam...</td>\n",
              "      <td>http://www.thedarkknightrises.com/</td>\n",
              "      <td>49026</td>\n",
              "      <td>[{\"id\": 849, \"name\": \"dc comics\"}, {\"id\": 853,...</td>\n",
              "      <td>en</td>\n",
              "      <td>The Dark Knight Rises</td>\n",
              "      <td>Following the death of District Attorney Harve...</td>\n",
              "      <td>112.312950</td>\n",
              "      <td>[{\"name\": \"Legendary Pictures\", \"id\": 923}, {\"...</td>\n",
              "      <td>[{\"iso_3166_1\": \"US\", \"name\": \"United States o...</td>\n",
              "      <td>2012-07-16</td>\n",
              "      <td>1084939099</td>\n",
              "      <td>165.0</td>\n",
              "      <td>[{\"iso_639_1\": \"en\", \"name\": \"English\"}]</td>\n",
              "      <td>Released</td>\n",
              "      <td>The Legend Ends</td>\n",
              "      <td>The Dark Knight Rises</td>\n",
              "      <td>7.6</td>\n",
              "      <td>9106</td>\n",
              "    </tr>\n",
              "    <tr>\n",
              "      <th>4</th>\n",
              "      <td>260000000</td>\n",
              "      <td>[{\"id\": 28, \"name\": \"Action\"}, {\"id\": 12, \"nam...</td>\n",
              "      <td>http://movies.disney.com/john-carter</td>\n",
              "      <td>49529</td>\n",
              "      <td>[{\"id\": 818, \"name\": \"based on novel\"}, {\"id\":...</td>\n",
              "      <td>en</td>\n",
              "      <td>John Carter</td>\n",
              "      <td>John Carter is a war-weary, former military ca...</td>\n",
              "      <td>43.926995</td>\n",
              "      <td>[{\"name\": \"Walt Disney Pictures\", \"id\": 2}]</td>\n",
              "      <td>[{\"iso_3166_1\": \"US\", \"name\": \"United States o...</td>\n",
              "      <td>2012-03-07</td>\n",
              "      <td>284139100</td>\n",
              "      <td>132.0</td>\n",
              "      <td>[{\"iso_639_1\": \"en\", \"name\": \"English\"}]</td>\n",
              "      <td>Released</td>\n",
              "      <td>Lost in our world, found in another.</td>\n",
              "      <td>John Carter</td>\n",
              "      <td>6.1</td>\n",
              "      <td>2124</td>\n",
              "    </tr>\n",
              "  </tbody>\n",
              "</table>\n",
              "</div>\n",
              "    <div class=\"colab-df-buttons\">\n",
              "\n",
              "  <div class=\"colab-df-container\">\n",
              "    <button class=\"colab-df-convert\" onclick=\"convertToInteractive('df-6e641eca-a413-4f00-a5a3-86adabc85d00')\"\n",
              "            title=\"Convert this dataframe to an interactive table.\"\n",
              "            style=\"display:none;\">\n",
              "\n",
              "  <svg xmlns=\"http://www.w3.org/2000/svg\" height=\"24px\" viewBox=\"0 -960 960 960\">\n",
              "    <path d=\"M120-120v-720h720v720H120Zm60-500h600v-160H180v160Zm220 220h160v-160H400v160Zm0 220h160v-160H400v160ZM180-400h160v-160H180v160Zm440 0h160v-160H620v160ZM180-180h160v-160H180v160Zm440 0h160v-160H620v160Z\"/>\n",
              "  </svg>\n",
              "    </button>\n",
              "\n",
              "  <style>\n",
              "    .colab-df-container {\n",
              "      display:flex;\n",
              "      gap: 12px;\n",
              "    }\n",
              "\n",
              "    .colab-df-convert {\n",
              "      background-color: #E8F0FE;\n",
              "      border: none;\n",
              "      border-radius: 50%;\n",
              "      cursor: pointer;\n",
              "      display: none;\n",
              "      fill: #1967D2;\n",
              "      height: 32px;\n",
              "      padding: 0 0 0 0;\n",
              "      width: 32px;\n",
              "    }\n",
              "\n",
              "    .colab-df-convert:hover {\n",
              "      background-color: #E2EBFA;\n",
              "      box-shadow: 0px 1px 2px rgba(60, 64, 67, 0.3), 0px 1px 3px 1px rgba(60, 64, 67, 0.15);\n",
              "      fill: #174EA6;\n",
              "    }\n",
              "\n",
              "    .colab-df-buttons div {\n",
              "      margin-bottom: 4px;\n",
              "    }\n",
              "\n",
              "    [theme=dark] .colab-df-convert {\n",
              "      background-color: #3B4455;\n",
              "      fill: #D2E3FC;\n",
              "    }\n",
              "\n",
              "    [theme=dark] .colab-df-convert:hover {\n",
              "      background-color: #434B5C;\n",
              "      box-shadow: 0px 1px 3px 1px rgba(0, 0, 0, 0.15);\n",
              "      filter: drop-shadow(0px 1px 2px rgba(0, 0, 0, 0.3));\n",
              "      fill: #FFFFFF;\n",
              "    }\n",
              "  </style>\n",
              "\n",
              "    <script>\n",
              "      const buttonEl =\n",
              "        document.querySelector('#df-6e641eca-a413-4f00-a5a3-86adabc85d00 button.colab-df-convert');\n",
              "      buttonEl.style.display =\n",
              "        google.colab.kernel.accessAllowed ? 'block' : 'none';\n",
              "\n",
              "      async function convertToInteractive(key) {\n",
              "        const element = document.querySelector('#df-6e641eca-a413-4f00-a5a3-86adabc85d00');\n",
              "        const dataTable =\n",
              "          await google.colab.kernel.invokeFunction('convertToInteractive',\n",
              "                                                    [key], {});\n",
              "        if (!dataTable) return;\n",
              "\n",
              "        const docLinkHtml = 'Like what you see? Visit the ' +\n",
              "          '<a target=\"_blank\" href=https://colab.research.google.com/notebooks/data_table.ipynb>data table notebook</a>'\n",
              "          + ' to learn more about interactive tables.';\n",
              "        element.innerHTML = '';\n",
              "        dataTable['output_type'] = 'display_data';\n",
              "        await google.colab.output.renderOutput(dataTable, element);\n",
              "        const docLink = document.createElement('div');\n",
              "        docLink.innerHTML = docLinkHtml;\n",
              "        element.appendChild(docLink);\n",
              "      }\n",
              "    </script>\n",
              "  </div>\n",
              "\n",
              "\n",
              "<div id=\"df-84d65e5d-431a-4135-a1c4-626d1606c4af\">\n",
              "  <button class=\"colab-df-quickchart\" onclick=\"quickchart('df-84d65e5d-431a-4135-a1c4-626d1606c4af')\"\n",
              "            title=\"Suggest charts\"\n",
              "            style=\"display:none;\">\n",
              "\n",
              "<svg xmlns=\"http://www.w3.org/2000/svg\" height=\"24px\"viewBox=\"0 0 24 24\"\n",
              "     width=\"24px\">\n",
              "    <g>\n",
              "        <path d=\"M19 3H5c-1.1 0-2 .9-2 2v14c0 1.1.9 2 2 2h14c1.1 0 2-.9 2-2V5c0-1.1-.9-2-2-2zM9 17H7v-7h2v7zm4 0h-2V7h2v10zm4 0h-2v-4h2v4z\"/>\n",
              "    </g>\n",
              "</svg>\n",
              "  </button>\n",
              "\n",
              "<style>\n",
              "  .colab-df-quickchart {\n",
              "      --bg-color: #E8F0FE;\n",
              "      --fill-color: #1967D2;\n",
              "      --hover-bg-color: #E2EBFA;\n",
              "      --hover-fill-color: #174EA6;\n",
              "      --disabled-fill-color: #AAA;\n",
              "      --disabled-bg-color: #DDD;\n",
              "  }\n",
              "\n",
              "  [theme=dark] .colab-df-quickchart {\n",
              "      --bg-color: #3B4455;\n",
              "      --fill-color: #D2E3FC;\n",
              "      --hover-bg-color: #434B5C;\n",
              "      --hover-fill-color: #FFFFFF;\n",
              "      --disabled-bg-color: #3B4455;\n",
              "      --disabled-fill-color: #666;\n",
              "  }\n",
              "\n",
              "  .colab-df-quickchart {\n",
              "    background-color: var(--bg-color);\n",
              "    border: none;\n",
              "    border-radius: 50%;\n",
              "    cursor: pointer;\n",
              "    display: none;\n",
              "    fill: var(--fill-color);\n",
              "    height: 32px;\n",
              "    padding: 0;\n",
              "    width: 32px;\n",
              "  }\n",
              "\n",
              "  .colab-df-quickchart:hover {\n",
              "    background-color: var(--hover-bg-color);\n",
              "    box-shadow: 0 1px 2px rgba(60, 64, 67, 0.3), 0 1px 3px 1px rgba(60, 64, 67, 0.15);\n",
              "    fill: var(--button-hover-fill-color);\n",
              "  }\n",
              "\n",
              "  .colab-df-quickchart-complete:disabled,\n",
              "  .colab-df-quickchart-complete:disabled:hover {\n",
              "    background-color: var(--disabled-bg-color);\n",
              "    fill: var(--disabled-fill-color);\n",
              "    box-shadow: none;\n",
              "  }\n",
              "\n",
              "  .colab-df-spinner {\n",
              "    border: 2px solid var(--fill-color);\n",
              "    border-color: transparent;\n",
              "    border-bottom-color: var(--fill-color);\n",
              "    animation:\n",
              "      spin 1s steps(1) infinite;\n",
              "  }\n",
              "\n",
              "  @keyframes spin {\n",
              "    0% {\n",
              "      border-color: transparent;\n",
              "      border-bottom-color: var(--fill-color);\n",
              "      border-left-color: var(--fill-color);\n",
              "    }\n",
              "    20% {\n",
              "      border-color: transparent;\n",
              "      border-left-color: var(--fill-color);\n",
              "      border-top-color: var(--fill-color);\n",
              "    }\n",
              "    30% {\n",
              "      border-color: transparent;\n",
              "      border-left-color: var(--fill-color);\n",
              "      border-top-color: var(--fill-color);\n",
              "      border-right-color: var(--fill-color);\n",
              "    }\n",
              "    40% {\n",
              "      border-color: transparent;\n",
              "      border-right-color: var(--fill-color);\n",
              "      border-top-color: var(--fill-color);\n",
              "    }\n",
              "    60% {\n",
              "      border-color: transparent;\n",
              "      border-right-color: var(--fill-color);\n",
              "    }\n",
              "    80% {\n",
              "      border-color: transparent;\n",
              "      border-right-color: var(--fill-color);\n",
              "      border-bottom-color: var(--fill-color);\n",
              "    }\n",
              "    90% {\n",
              "      border-color: transparent;\n",
              "      border-bottom-color: var(--fill-color);\n",
              "    }\n",
              "  }\n",
              "</style>\n",
              "\n",
              "  <script>\n",
              "    async function quickchart(key) {\n",
              "      const quickchartButtonEl =\n",
              "        document.querySelector('#' + key + ' button');\n",
              "      quickchartButtonEl.disabled = true;  // To prevent multiple clicks.\n",
              "      quickchartButtonEl.classList.add('colab-df-spinner');\n",
              "      try {\n",
              "        const charts = await google.colab.kernel.invokeFunction(\n",
              "            'suggestCharts', [key], {});\n",
              "      } catch (error) {\n",
              "        console.error('Error during call to suggestCharts:', error);\n",
              "      }\n",
              "      quickchartButtonEl.classList.remove('colab-df-spinner');\n",
              "      quickchartButtonEl.classList.add('colab-df-quickchart-complete');\n",
              "    }\n",
              "    (() => {\n",
              "      let quickchartButtonEl =\n",
              "        document.querySelector('#df-84d65e5d-431a-4135-a1c4-626d1606c4af button');\n",
              "      quickchartButtonEl.style.display =\n",
              "        google.colab.kernel.accessAllowed ? 'block' : 'none';\n",
              "    })();\n",
              "  </script>\n",
              "</div>\n",
              "\n",
              "    </div>\n",
              "  </div>\n"
            ]
          },
          "metadata": {},
          "execution_count": 8
        }
      ]
    },
    {
      "cell_type": "code",
      "source": [
        "df.shape"
      ],
      "metadata": {
        "colab": {
          "base_uri": "https://localhost:8080/"
        },
        "id": "mcPXWgX4hg6Y",
        "outputId": "5e132b99-7dcb-44d6-d872-4482481770c6"
      },
      "execution_count": 9,
      "outputs": [
        {
          "output_type": "execute_result",
          "data": {
            "text/plain": [
              "(4803, 20)"
            ]
          },
          "metadata": {},
          "execution_count": 9
        }
      ]
    },
    {
      "cell_type": "code",
      "source": [
        "df.info()"
      ],
      "metadata": {
        "colab": {
          "base_uri": "https://localhost:8080/"
        },
        "id": "Ed9G5Iwfhg9M",
        "outputId": "bfccb373-42a7-4abc-bb9f-862870d97a6f"
      },
      "execution_count": 10,
      "outputs": [
        {
          "output_type": "stream",
          "name": "stdout",
          "text": [
            "<class 'pandas.core.frame.DataFrame'>\n",
            "RangeIndex: 4803 entries, 0 to 4802\n",
            "Data columns (total 20 columns):\n",
            " #   Column                Non-Null Count  Dtype  \n",
            "---  ------                --------------  -----  \n",
            " 0   budget                4803 non-null   int64  \n",
            " 1   genres                4803 non-null   object \n",
            " 2   homepage              1712 non-null   object \n",
            " 3   id                    4803 non-null   int64  \n",
            " 4   keywords              4803 non-null   object \n",
            " 5   original_language     4803 non-null   object \n",
            " 6   original_title        4803 non-null   object \n",
            " 7   overview              4800 non-null   object \n",
            " 8   popularity            4803 non-null   float64\n",
            " 9   production_companies  4803 non-null   object \n",
            " 10  production_countries  4803 non-null   object \n",
            " 11  release_date          4802 non-null   object \n",
            " 12  revenue               4803 non-null   int64  \n",
            " 13  runtime               4801 non-null   float64\n",
            " 14  spoken_languages      4803 non-null   object \n",
            " 15  status                4803 non-null   object \n",
            " 16  tagline               3959 non-null   object \n",
            " 17  title                 4803 non-null   object \n",
            " 18  vote_average          4803 non-null   float64\n",
            " 19  vote_count            4803 non-null   int64  \n",
            "dtypes: float64(3), int64(4), object(13)\n",
            "memory usage: 750.6+ KB\n"
          ]
        }
      ]
    },
    {
      "cell_type": "markdown",
      "source": [
        "### Here I am interested only in one variable named 'title'"
      ],
      "metadata": {
        "id": "AXZ43XNfisiS"
      }
    },
    {
      "cell_type": "code",
      "source": [
        "df = df['title']\n",
        "df.head()"
      ],
      "metadata": {
        "colab": {
          "base_uri": "https://localhost:8080/"
        },
        "id": "BR1CLdn_iowW",
        "outputId": "8ec7d85f-6d2a-478a-b81f-0ce42abcd6f3"
      },
      "execution_count": 11,
      "outputs": [
        {
          "output_type": "execute_result",
          "data": {
            "text/plain": [
              "0                                      Avatar\n",
              "1    Pirates of the Caribbean: At World's End\n",
              "2                                     Spectre\n",
              "3                       The Dark Knight Rises\n",
              "4                                 John Carter\n",
              "Name: title, dtype: object"
            ]
          },
          "metadata": {},
          "execution_count": 11
        }
      ]
    },
    {
      "cell_type": "markdown",
      "source": [
        "**Converting title in to list**"
      ],
      "metadata": {
        "id": "oMM6rzV-jV3R"
      }
    },
    {
      "cell_type": "code",
      "source": [
        "mv_names = df.to_list()"
      ],
      "metadata": {
        "id": "zSl-Jb3kjCDX"
      },
      "execution_count": 12,
      "outputs": []
    },
    {
      "cell_type": "code",
      "source": [
        "mv_names[:10]"
      ],
      "metadata": {
        "colab": {
          "base_uri": "https://localhost:8080/"
        },
        "id": "EXXNNjJxjvOg",
        "outputId": "21601c23-2ab0-4a1b-8653-dc8760fb8b30"
      },
      "execution_count": 14,
      "outputs": [
        {
          "output_type": "execute_result",
          "data": {
            "text/plain": [
              "['Avatar',\n",
              " \"Pirates of the Caribbean: At World's End\",\n",
              " 'Spectre',\n",
              " 'The Dark Knight Rises',\n",
              " 'John Carter',\n",
              " 'Spider-Man 3',\n",
              " 'Tangled',\n",
              " 'Avengers: Age of Ultron',\n",
              " 'Harry Potter and the Half-Blood Prince',\n",
              " 'Batman v Superman: Dawn of Justice']"
            ]
          },
          "metadata": {},
          "execution_count": 14
        }
      ]
    },
    {
      "cell_type": "markdown",
      "source": [
        "**Creating Tokens for the list of title**"
      ],
      "metadata": {
        "id": "bLDgHsdLkTOO"
      }
    },
    {
      "cell_type": "code",
      "source": [
        "tokenizer = tf.keras.preprocessing.text.Tokenizer()\n",
        "tokenizer.fit_on_texts(mv_names)"
      ],
      "metadata": {
        "id": "hwOdYQsTjvRW"
      },
      "execution_count": 16,
      "outputs": []
    },
    {
      "cell_type": "markdown",
      "source": [
        "**Creating sequence of the tokens**"
      ],
      "metadata": {
        "id": "n1O6V55jlbak"
      }
    },
    {
      "cell_type": "code",
      "source": [
        "sqnc = tokenizer.texts_to_sequences(mv_names)"
      ],
      "metadata": {
        "id": "HZuZpCjVjvUF"
      },
      "execution_count": 18,
      "outputs": []
    },
    {
      "cell_type": "markdown",
      "source": [
        "**Creating Input data and output data**"
      ],
      "metadata": {
        "id": "gstNmYvZojVN"
      }
    },
    {
      "cell_type": "markdown",
      "source": [
        "### Input data takes all the words from the list except 1st word and output data take word which is consecutive to that word."
      ],
      "metadata": {
        "id": "IeojuyyLos56"
      }
    },
    {
      "cell_type": "code",
      "source": [
        "X = []\n",
        "y = []\n",
        "\n",
        "for i in sqnc:\n",
        "    if len(i) > 1:\n",
        "        for index in range(1, len(i)):\n",
        "            X.append(i[:index])\n",
        "            y.append(i[index])\n",
        ""
      ],
      "metadata": {
        "id": "yQSBcAdjltUZ"
      },
      "execution_count": 31,
      "outputs": []
    },
    {
      "cell_type": "code",
      "source": [
        "X[:10]"
      ],
      "metadata": {
        "colab": {
          "base_uri": "https://localhost:8080/"
        },
        "id": "M4I2r_mVpPlR",
        "outputId": "70abdef2-3df2-4845-ee6d-041cd9ead7cb"
      },
      "execution_count": 32,
      "outputs": [
        {
          "output_type": "execute_result",
          "data": {
            "text/plain": [
              "[[216],\n",
              " [216, 2],\n",
              " [216, 2, 1],\n",
              " [216, 2, 1, 443],\n",
              " [216, 2, 1, 443, 46],\n",
              " [216, 2, 1, 443, 46, 444],\n",
              " [1],\n",
              " [1, 55],\n",
              " [1, 55, 180],\n",
              " [217]]"
            ]
          },
          "metadata": {},
          "execution_count": 32
        }
      ]
    },
    {
      "cell_type": "code",
      "source": [
        "y[:10]"
      ],
      "metadata": {
        "colab": {
          "base_uri": "https://localhost:8080/"
        },
        "id": "tGB_3w8QpPoA",
        "outputId": "25cd97ca-7957-4cdc-d81b-fa862661248b"
      },
      "execution_count": 33,
      "outputs": [
        {
          "output_type": "execute_result",
          "data": {
            "text/plain": [
              "[2, 1, 443, 46, 444, 74, 55, 180, 1583, 624]"
            ]
          },
          "metadata": {},
          "execution_count": 33
        }
      ]
    },
    {
      "cell_type": "markdown",
      "source": [
        "**Padding the Input Data Sequences**"
      ],
      "metadata": {
        "id": "40C-XgFcp71o"
      }
    },
    {
      "cell_type": "markdown",
      "source": [
        "### As lenght of the input data sequences is varing, so i need to pad the sequences"
      ],
      "metadata": {
        "id": "4I17lzh_pv2N"
      }
    },
    {
      "cell_type": "code",
      "source": [
        "X = tf.keras.preprocessing.sequence.pad_sequences(X)"
      ],
      "metadata": {
        "id": "nFCtpz9npPrE"
      },
      "execution_count": 34,
      "outputs": []
    },
    {
      "cell_type": "code",
      "source": [
        "X[5]"
      ],
      "metadata": {
        "colab": {
          "base_uri": "https://localhost:8080/"
        },
        "id": "yIbWTNpzpPtX",
        "outputId": "edf588a7-b7c5-434e-b623-763e16affede"
      },
      "execution_count": 35,
      "outputs": [
        {
          "output_type": "execute_result",
          "data": {
            "text/plain": [
              "array([  0,   0,   0,   0,   0,   0,   0,   0, 216,   2,   1, 443,  46,\n",
              "       444], dtype=int32)"
            ]
          },
          "metadata": {},
          "execution_count": 35
        }
      ]
    },
    {
      "cell_type": "markdown",
      "source": [
        "**Label Encoding the output data**"
      ],
      "metadata": {
        "id": "POlJ8JMhqoGL"
      }
    },
    {
      "cell_type": "code",
      "source": [
        "y = tf.keras.utils.to_categorical(y)\n"
      ],
      "metadata": {
        "id": "hgH2jpAfpPvw"
      },
      "execution_count": 36,
      "outputs": []
    },
    {
      "cell_type": "code",
      "source": [
        "y.shape"
      ],
      "metadata": {
        "colab": {
          "base_uri": "https://localhost:8080/"
        },
        "id": "Etqd5z-AsBPh",
        "outputId": "3dee2dde-38f2-48a7-a7d7-9a5b62584872"
      },
      "execution_count": 39,
      "outputs": [
        {
          "output_type": "execute_result",
          "data": {
            "text/plain": [
              "(8599, 4797)"
            ]
          },
          "metadata": {},
          "execution_count": 39
        }
      ]
    },
    {
      "cell_type": "markdown",
      "source": [
        "**Vocabulary Size**"
      ],
      "metadata": {
        "id": "Dz-Asmf8rspu"
      }
    },
    {
      "cell_type": "code",
      "source": [
        "vocab_size = len(tokenizer.word_index) + 1"
      ],
      "metadata": {
        "id": "vaCZLbL_rrMg"
      },
      "execution_count": 37,
      "outputs": []
    },
    {
      "cell_type": "code",
      "source": [
        "vocab_size"
      ],
      "metadata": {
        "colab": {
          "base_uri": "https://localhost:8080/"
        },
        "id": "JcFK76tSrrWO",
        "outputId": "dba3eaab-b735-469d-f929-70888f39d48f"
      },
      "execution_count": 38,
      "outputs": [
        {
          "output_type": "execute_result",
          "data": {
            "text/plain": [
              "4797"
            ]
          },
          "metadata": {},
          "execution_count": 38
        }
      ]
    },
    {
      "cell_type": "markdown",
      "source": [
        "**Model Training**"
      ],
      "metadata": {
        "id": "xHHwZTOarOfl"
      }
    },
    {
      "cell_type": "markdown",
      "source": [
        "### Defining Model Architecture"
      ],
      "metadata": {
        "id": "G4yghcm-rbco"
      }
    },
    {
      "cell_type": "code",
      "source": [
        "model = tf.keras.Sequential([\n",
        "    tf.keras.layers.Embedding(vocab_size, 14),\n",
        "    tf.keras.layers.LSTM(1000, return_sequences=True),\n",
        "    tf.keras.layers.LSTM(1000, return_sequences=True),\n",
        "    tf.keras.layers.LSTM(1000),\n",
        "    tf.keras.layers.Dense(1000, activation='relu'),\n",
        "    tf.keras.layers.Dense(vocab_size, activation='softmax'),\n",
        "])"
      ],
      "metadata": {
        "id": "eSKaWf7lpP0d"
      },
      "execution_count": 40,
      "outputs": []
    },
    {
      "cell_type": "markdown",
      "source": [
        "**Summary of the model**"
      ],
      "metadata": {
        "id": "cAl50wissvyn"
      }
    },
    {
      "cell_type": "code",
      "source": [
        "model.summary()"
      ],
      "metadata": {
        "colab": {
          "base_uri": "https://localhost:8080/"
        },
        "id": "UBdP_VxapP28",
        "outputId": "6bd3b915-5791-4bb4-e9e8-6b9e2913f609"
      },
      "execution_count": 41,
      "outputs": [
        {
          "output_type": "stream",
          "name": "stdout",
          "text": [
            "Model: \"sequential\"\n",
            "_________________________________________________________________\n",
            " Layer (type)                Output Shape              Param #   \n",
            "=================================================================\n",
            " embedding (Embedding)       (None, None, 14)          67158     \n",
            "                                                                 \n",
            " lstm (LSTM)                 (None, None, 1000)        4060000   \n",
            "                                                                 \n",
            " lstm_1 (LSTM)               (None, None, 1000)        8004000   \n",
            "                                                                 \n",
            " lstm_2 (LSTM)               (None, 1000)              8004000   \n",
            "                                                                 \n",
            " dense (Dense)               (None, 1000)              1001000   \n",
            "                                                                 \n",
            " dense_1 (Dense)             (None, 4797)              4801797   \n",
            "                                                                 \n",
            "=================================================================\n",
            "Total params: 25937955 (98.95 MB)\n",
            "Trainable params: 25937955 (98.95 MB)\n",
            "Non-trainable params: 0 (0.00 Byte)\n",
            "_________________________________________________________________\n"
          ]
        }
      ]
    },
    {
      "cell_type": "markdown",
      "source": [
        "**Model Compilation**"
      ],
      "metadata": {
        "id": "YDeZ53hws7UL"
      }
    },
    {
      "cell_type": "code",
      "source": [
        "model.compile(\n",
        "    optimizer=tf.keras.optimizers.Adam(learning_rate=0.004),\n",
        "    loss='categorical_crossentropy',\n",
        "    metrics=['accuracy'])"
      ],
      "metadata": {
        "id": "0RgQIoB2pP5d"
      },
      "execution_count": 42,
      "outputs": []
    },
    {
      "cell_type": "markdown",
      "source": [
        "**Fitting the Model**"
      ],
      "metadata": {
        "id": "KX9olnQotYPZ"
      }
    },
    {
      "cell_type": "code",
      "source": [
        "model.fit(X, y, epochs=150)"
      ],
      "metadata": {
        "colab": {
          "base_uri": "https://localhost:8080/"
        },
        "id": "Qr9j1X04pP79",
        "outputId": "43b2a096-dff8-4b53-8115-56f11487e932"
      },
      "execution_count": 44,
      "outputs": [
        {
          "output_type": "stream",
          "name": "stdout",
          "text": [
            "Epoch 1/150\n",
            "269/269 [==============================] - 9s 34ms/step - loss: 7.0055 - accuracy: 0.0643\n",
            "Epoch 2/150\n",
            "269/269 [==============================] - 9s 35ms/step - loss: 7.0021 - accuracy: 0.0643\n",
            "Epoch 3/150\n",
            "269/269 [==============================] - 9s 35ms/step - loss: 7.0010 - accuracy: 0.0643\n",
            "Epoch 4/150\n",
            "269/269 [==============================] - 10s 36ms/step - loss: 6.9989 - accuracy: 0.0633\n",
            "Epoch 5/150\n",
            "269/269 [==============================] - 10s 36ms/step - loss: 6.9970 - accuracy: 0.0621\n",
            "Epoch 6/150\n",
            "269/269 [==============================] - 9s 35ms/step - loss: 6.9975 - accuracy: 0.0643\n",
            "Epoch 7/150\n",
            "269/269 [==============================] - 9s 35ms/step - loss: 7.0013 - accuracy: 0.0633\n",
            "Epoch 8/150\n",
            "269/269 [==============================] - 9s 35ms/step - loss: 6.9940 - accuracy: 0.0628\n",
            "Epoch 9/150\n",
            "269/269 [==============================] - 9s 35ms/step - loss: 6.9995 - accuracy: 0.0643\n",
            "Epoch 10/150\n",
            "269/269 [==============================] - 9s 35ms/step - loss: 6.9982 - accuracy: 0.0643\n",
            "Epoch 11/150\n",
            "269/269 [==============================] - 9s 35ms/step - loss: 6.9953 - accuracy: 0.0643\n",
            "Epoch 12/150\n",
            "269/269 [==============================] - 9s 35ms/step - loss: 6.9900 - accuracy: 0.0635\n",
            "Epoch 13/150\n",
            "269/269 [==============================] - 9s 35ms/step - loss: 6.9897 - accuracy: 0.0643\n",
            "Epoch 14/150\n",
            "269/269 [==============================] - 10s 36ms/step - loss: 6.9853 - accuracy: 0.0635\n",
            "Epoch 15/150\n",
            "269/269 [==============================] - 9s 35ms/step - loss: 6.9954 - accuracy: 0.0643\n",
            "Epoch 16/150\n",
            "269/269 [==============================] - 10s 36ms/step - loss: 6.9876 - accuracy: 0.0643\n",
            "Epoch 17/150\n",
            "269/269 [==============================] - 9s 35ms/step - loss: 6.9861 - accuracy: 0.0643\n",
            "Epoch 18/150\n",
            "269/269 [==============================] - 9s 35ms/step - loss: 6.9854 - accuracy: 0.0622\n",
            "Epoch 19/150\n",
            "269/269 [==============================] - 9s 35ms/step - loss: 6.9884 - accuracy: 0.0643\n",
            "Epoch 20/150\n",
            "269/269 [==============================] - 9s 35ms/step - loss: 6.9872 - accuracy: 0.0643\n",
            "Epoch 21/150\n",
            "269/269 [==============================] - 9s 35ms/step - loss: 6.9851 - accuracy: 0.0643\n",
            "Epoch 22/150\n",
            "269/269 [==============================] - 9s 35ms/step - loss: 6.9782 - accuracy: 0.0623\n",
            "Epoch 23/150\n",
            "269/269 [==============================] - 9s 35ms/step - loss: 6.9812 - accuracy: 0.0643\n",
            "Epoch 24/150\n",
            "269/269 [==============================] - 9s 35ms/step - loss: 6.9825 - accuracy: 0.0629\n",
            "Epoch 25/150\n",
            "269/269 [==============================] - 9s 35ms/step - loss: 6.9831 - accuracy: 0.0643\n",
            "Epoch 26/150\n",
            "269/269 [==============================] - 10s 36ms/step - loss: 6.9825 - accuracy: 0.0643\n",
            "Epoch 27/150\n",
            "269/269 [==============================] - 9s 35ms/step - loss: 6.9808 - accuracy: 0.0634\n",
            "Epoch 28/150\n",
            "269/269 [==============================] - 9s 35ms/step - loss: 6.9819 - accuracy: 0.0621\n",
            "Epoch 29/150\n",
            "269/269 [==============================] - 9s 35ms/step - loss: 6.9814 - accuracy: 0.0643\n",
            "Epoch 30/150\n",
            "269/269 [==============================] - 9s 35ms/step - loss: 6.9796 - accuracy: 0.0630\n",
            "Epoch 31/150\n",
            "269/269 [==============================] - 9s 35ms/step - loss: 6.9787 - accuracy: 0.0643\n",
            "Epoch 32/150\n",
            "269/269 [==============================] - 9s 35ms/step - loss: 6.9832 - accuracy: 0.0621\n",
            "Epoch 33/150\n",
            "269/269 [==============================] - 9s 35ms/step - loss: 6.9780 - accuracy: 0.0643\n",
            "Epoch 34/150\n",
            "269/269 [==============================] - 9s 35ms/step - loss: 6.9757 - accuracy: 0.0643\n",
            "Epoch 35/150\n",
            "269/269 [==============================] - 9s 35ms/step - loss: 6.9770 - accuracy: 0.0643\n",
            "Epoch 36/150\n",
            "269/269 [==============================] - 9s 35ms/step - loss: 6.9795 - accuracy: 0.0643\n",
            "Epoch 37/150\n",
            "269/269 [==============================] - 9s 35ms/step - loss: 6.9745 - accuracy: 0.0643\n",
            "Epoch 38/150\n",
            "269/269 [==============================] - 9s 35ms/step - loss: 6.9769 - accuracy: 0.0643\n",
            "Epoch 39/150\n",
            "269/269 [==============================] - 10s 36ms/step - loss: 6.9750 - accuracy: 0.0643\n",
            "Epoch 40/150\n",
            "269/269 [==============================] - 10s 35ms/step - loss: 6.9739 - accuracy: 0.0643\n",
            "Epoch 41/150\n",
            "269/269 [==============================] - 9s 34ms/step - loss: 7.3065 - accuracy: 0.0614\n",
            "Epoch 42/150\n",
            "269/269 [==============================] - 9s 34ms/step - loss: 7.1300 - accuracy: 0.0578\n",
            "Epoch 43/150\n",
            "269/269 [==============================] - 9s 34ms/step - loss: 7.0562 - accuracy: 0.0643\n",
            "Epoch 44/150\n",
            "269/269 [==============================] - 9s 34ms/step - loss: 7.0176 - accuracy: 0.0643\n",
            "Epoch 45/150\n",
            "269/269 [==============================] - 9s 34ms/step - loss: 6.9949 - accuracy: 0.0643\n",
            "Epoch 46/150\n",
            "269/269 [==============================] - 9s 34ms/step - loss: 6.9801 - accuracy: 0.0643\n",
            "Epoch 47/150\n",
            "269/269 [==============================] - 9s 34ms/step - loss: 6.9700 - accuracy: 0.0643\n",
            "Epoch 48/150\n",
            "269/269 [==============================] - 9s 34ms/step - loss: 6.9633 - accuracy: 0.0643\n",
            "Epoch 49/150\n",
            "269/269 [==============================] - 9s 34ms/step - loss: 6.9581 - accuracy: 0.0643\n",
            "Epoch 50/150\n",
            "269/269 [==============================] - 9s 35ms/step - loss: 6.9545 - accuracy: 0.0643\n",
            "Epoch 51/150\n",
            "269/269 [==============================] - 9s 34ms/step - loss: 6.9518 - accuracy: 0.0643\n",
            "Epoch 52/150\n",
            "269/269 [==============================] - 9s 34ms/step - loss: 6.9499 - accuracy: 0.0643\n",
            "Epoch 53/150\n",
            "269/269 [==============================] - 9s 34ms/step - loss: 6.9481 - accuracy: 0.0643\n",
            "Epoch 54/150\n",
            "269/269 [==============================] - 9s 33ms/step - loss: 6.9469 - accuracy: 0.0643\n",
            "Epoch 55/150\n",
            "269/269 [==============================] - 9s 34ms/step - loss: 6.9461 - accuracy: 0.0643\n",
            "Epoch 56/150\n",
            "269/269 [==============================] - 9s 34ms/step - loss: 6.9453 - accuracy: 0.0643\n",
            "Epoch 57/150\n",
            "269/269 [==============================] - 9s 34ms/step - loss: 6.9448 - accuracy: 0.0643\n",
            "Epoch 58/150\n",
            "269/269 [==============================] - 9s 34ms/step - loss: 6.9442 - accuracy: 0.0643\n",
            "Epoch 59/150\n",
            "269/269 [==============================] - 9s 34ms/step - loss: 6.9440 - accuracy: 0.0643\n",
            "Epoch 60/150\n",
            "269/269 [==============================] - 9s 34ms/step - loss: 6.9436 - accuracy: 0.0643\n",
            "Epoch 61/150\n",
            "269/269 [==============================] - 9s 34ms/step - loss: 6.9434 - accuracy: 0.0643\n",
            "Epoch 62/150\n",
            "269/269 [==============================] - 9s 34ms/step - loss: 6.9434 - accuracy: 0.0643\n",
            "Epoch 63/150\n",
            "269/269 [==============================] - 9s 34ms/step - loss: 6.9432 - accuracy: 0.0643\n",
            "Epoch 64/150\n",
            "269/269 [==============================] - 9s 34ms/step - loss: 6.9430 - accuracy: 0.0643\n",
            "Epoch 65/150\n",
            "269/269 [==============================] - 9s 34ms/step - loss: 6.9430 - accuracy: 0.0643\n",
            "Epoch 66/150\n",
            "269/269 [==============================] - 9s 34ms/step - loss: 6.9428 - accuracy: 0.0643\n",
            "Epoch 67/150\n",
            "269/269 [==============================] - 9s 34ms/step - loss: 6.9428 - accuracy: 0.0643\n",
            "Epoch 68/150\n",
            "269/269 [==============================] - 9s 34ms/step - loss: 6.9428 - accuracy: 0.0643\n",
            "Epoch 69/150\n",
            "269/269 [==============================] - 9s 34ms/step - loss: 6.9427 - accuracy: 0.0643\n",
            "Epoch 70/150\n",
            "269/269 [==============================] - 9s 33ms/step - loss: 6.9427 - accuracy: 0.0643\n",
            "Epoch 71/150\n",
            "269/269 [==============================] - 9s 34ms/step - loss: 6.9426 - accuracy: 0.0643\n",
            "Epoch 72/150\n",
            "269/269 [==============================] - 9s 34ms/step - loss: 6.9426 - accuracy: 0.0643\n",
            "Epoch 73/150\n",
            "269/269 [==============================] - 9s 34ms/step - loss: 6.9426 - accuracy: 0.0643\n",
            "Epoch 74/150\n",
            "269/269 [==============================] - 9s 34ms/step - loss: 6.9425 - accuracy: 0.0643\n",
            "Epoch 75/150\n",
            "269/269 [==============================] - 9s 34ms/step - loss: 6.9425 - accuracy: 0.0643\n",
            "Epoch 76/150\n",
            "269/269 [==============================] - 9s 34ms/step - loss: 6.9426 - accuracy: 0.0643\n",
            "Epoch 77/150\n",
            "269/269 [==============================] - 9s 34ms/step - loss: 6.9426 - accuracy: 0.0643\n",
            "Epoch 78/150\n",
            "269/269 [==============================] - 9s 34ms/step - loss: 6.9425 - accuracy: 0.0643\n",
            "Epoch 79/150\n",
            "269/269 [==============================] - 9s 34ms/step - loss: 6.9426 - accuracy: 0.0643\n",
            "Epoch 80/150\n",
            "269/269 [==============================] - 9s 34ms/step - loss: 6.9426 - accuracy: 0.0643\n",
            "Epoch 81/150\n",
            "269/269 [==============================] - 9s 34ms/step - loss: 6.9426 - accuracy: 0.0643\n",
            "Epoch 82/150\n",
            "269/269 [==============================] - 9s 34ms/step - loss: 6.9424 - accuracy: 0.0643\n",
            "Epoch 83/150\n",
            "269/269 [==============================] - 9s 34ms/step - loss: 6.9425 - accuracy: 0.0643\n",
            "Epoch 84/150\n",
            "269/269 [==============================] - 9s 34ms/step - loss: 6.9425 - accuracy: 0.0643\n",
            "Epoch 85/150\n",
            "269/269 [==============================] - 9s 34ms/step - loss: 6.9427 - accuracy: 0.0643\n",
            "Epoch 86/150\n",
            "269/269 [==============================] - 9s 34ms/step - loss: 6.9427 - accuracy: 0.0643\n",
            "Epoch 87/150\n",
            "269/269 [==============================] - 9s 34ms/step - loss: 6.9427 - accuracy: 0.0643\n",
            "Epoch 88/150\n",
            "269/269 [==============================] - 9s 34ms/step - loss: 6.9426 - accuracy: 0.0643\n",
            "Epoch 89/150\n",
            "269/269 [==============================] - 9s 34ms/step - loss: 6.9426 - accuracy: 0.0643\n",
            "Epoch 90/150\n",
            "269/269 [==============================] - 9s 34ms/step - loss: 6.9426 - accuracy: 0.0643\n",
            "Epoch 91/150\n",
            "269/269 [==============================] - 9s 35ms/step - loss: 6.9426 - accuracy: 0.0643\n",
            "Epoch 92/150\n",
            "269/269 [==============================] - 9s 34ms/step - loss: 6.9426 - accuracy: 0.0643\n",
            "Epoch 93/150\n",
            "269/269 [==============================] - 9s 35ms/step - loss: 6.9426 - accuracy: 0.0643\n",
            "Epoch 94/150\n",
            "269/269 [==============================] - 9s 34ms/step - loss: 6.9427 - accuracy: 0.0643\n",
            "Epoch 95/150\n",
            "269/269 [==============================] - 9s 34ms/step - loss: 6.9427 - accuracy: 0.0643\n",
            "Epoch 96/150\n",
            "269/269 [==============================] - 9s 34ms/step - loss: 6.9426 - accuracy: 0.0643\n",
            "Epoch 97/150\n",
            "269/269 [==============================] - 9s 34ms/step - loss: 6.9426 - accuracy: 0.0643\n",
            "Epoch 98/150\n",
            "269/269 [==============================] - 9s 34ms/step - loss: 6.9426 - accuracy: 0.0643\n",
            "Epoch 99/150\n",
            "269/269 [==============================] - 9s 34ms/step - loss: 6.9425 - accuracy: 0.0643\n",
            "Epoch 100/150\n",
            "269/269 [==============================] - 9s 34ms/step - loss: 6.9426 - accuracy: 0.0643\n",
            "Epoch 101/150\n",
            "269/269 [==============================] - 9s 34ms/step - loss: 6.9425 - accuracy: 0.0643\n",
            "Epoch 102/150\n",
            "269/269 [==============================] - 9s 34ms/step - loss: 6.9426 - accuracy: 0.0643\n",
            "Epoch 103/150\n",
            "269/269 [==============================] - 9s 34ms/step - loss: 6.9427 - accuracy: 0.0643\n",
            "Epoch 104/150\n",
            "269/269 [==============================] - 9s 34ms/step - loss: 6.9426 - accuracy: 0.0643\n",
            "Epoch 105/150\n",
            "269/269 [==============================] - 9s 34ms/step - loss: 6.9426 - accuracy: 0.0643\n",
            "Epoch 106/150\n",
            "269/269 [==============================] - 9s 34ms/step - loss: 6.9427 - accuracy: 0.0643\n",
            "Epoch 107/150\n",
            "269/269 [==============================] - 9s 34ms/step - loss: 6.9425 - accuracy: 0.0643\n",
            "Epoch 108/150\n",
            "269/269 [==============================] - 9s 34ms/step - loss: 6.9426 - accuracy: 0.0643\n",
            "Epoch 109/150\n",
            "269/269 [==============================] - 9s 34ms/step - loss: 6.9426 - accuracy: 0.0643\n",
            "Epoch 110/150\n",
            "269/269 [==============================] - 9s 34ms/step - loss: 6.9426 - accuracy: 0.0643\n",
            "Epoch 111/150\n",
            "269/269 [==============================] - 9s 34ms/step - loss: 6.9426 - accuracy: 0.0643\n",
            "Epoch 112/150\n",
            "269/269 [==============================] - 9s 34ms/step - loss: 6.9427 - accuracy: 0.0643\n",
            "Epoch 113/150\n",
            "269/269 [==============================] - 9s 34ms/step - loss: 6.9425 - accuracy: 0.0643\n",
            "Epoch 114/150\n",
            "269/269 [==============================] - 9s 34ms/step - loss: 6.9427 - accuracy: 0.0643\n",
            "Epoch 115/150\n",
            "269/269 [==============================] - 9s 34ms/step - loss: 6.9426 - accuracy: 0.0643\n",
            "Epoch 116/150\n",
            "269/269 [==============================] - 9s 34ms/step - loss: 6.9426 - accuracy: 0.0643\n",
            "Epoch 117/150\n",
            "269/269 [==============================] - 9s 35ms/step - loss: 6.9426 - accuracy: 0.0643\n",
            "Epoch 118/150\n",
            "269/269 [==============================] - 9s 34ms/step - loss: 6.9426 - accuracy: 0.0643\n",
            "Epoch 119/150\n",
            "269/269 [==============================] - 9s 34ms/step - loss: 6.9427 - accuracy: 0.0643\n",
            "Epoch 120/150\n",
            "269/269 [==============================] - 9s 34ms/step - loss: 6.9427 - accuracy: 0.0643\n",
            "Epoch 121/150\n",
            "269/269 [==============================] - 9s 34ms/step - loss: 6.9425 - accuracy: 0.0643\n",
            "Epoch 122/150\n",
            "269/269 [==============================] - 9s 34ms/step - loss: 6.9426 - accuracy: 0.0643\n",
            "Epoch 123/150\n",
            "269/269 [==============================] - 9s 33ms/step - loss: 6.9426 - accuracy: 0.0643\n",
            "Epoch 124/150\n",
            "269/269 [==============================] - 9s 34ms/step - loss: 6.9427 - accuracy: 0.0643\n",
            "Epoch 125/150\n",
            "269/269 [==============================] - 9s 34ms/step - loss: 6.9426 - accuracy: 0.0643\n",
            "Epoch 126/150\n",
            "269/269 [==============================] - 9s 34ms/step - loss: 6.9426 - accuracy: 0.0643\n",
            "Epoch 127/150\n",
            "269/269 [==============================] - 9s 34ms/step - loss: 6.9426 - accuracy: 0.0643\n",
            "Epoch 128/150\n",
            "269/269 [==============================] - 9s 34ms/step - loss: 6.9426 - accuracy: 0.0643\n",
            "Epoch 129/150\n",
            "269/269 [==============================] - 9s 34ms/step - loss: 6.9427 - accuracy: 0.0643\n",
            "Epoch 130/150\n",
            "269/269 [==============================] - 9s 34ms/step - loss: 6.9426 - accuracy: 0.0643\n",
            "Epoch 131/150\n",
            "269/269 [==============================] - 9s 34ms/step - loss: 6.9426 - accuracy: 0.0643\n",
            "Epoch 132/150\n",
            "269/269 [==============================] - 9s 34ms/step - loss: 6.9426 - accuracy: 0.0643\n",
            "Epoch 133/150\n",
            "269/269 [==============================] - 9s 34ms/step - loss: 6.9427 - accuracy: 0.0643\n",
            "Epoch 134/150\n",
            "269/269 [==============================] - 9s 34ms/step - loss: 6.9427 - accuracy: 0.0643\n",
            "Epoch 135/150\n",
            "269/269 [==============================] - 9s 34ms/step - loss: 6.9427 - accuracy: 0.0643\n",
            "Epoch 136/150\n",
            "269/269 [==============================] - 9s 34ms/step - loss: 6.9427 - accuracy: 0.0643\n",
            "Epoch 137/150\n",
            "269/269 [==============================] - 9s 34ms/step - loss: 6.9425 - accuracy: 0.0643\n",
            "Epoch 138/150\n",
            "269/269 [==============================] - 9s 34ms/step - loss: 6.9426 - accuracy: 0.0643\n",
            "Epoch 139/150\n",
            "269/269 [==============================] - 9s 34ms/step - loss: 6.9426 - accuracy: 0.0643\n",
            "Epoch 140/150\n",
            "269/269 [==============================] - 9s 34ms/step - loss: 6.9426 - accuracy: 0.0643\n",
            "Epoch 141/150\n",
            "269/269 [==============================] - 9s 34ms/step - loss: 6.9426 - accuracy: 0.0643\n",
            "Epoch 142/150\n",
            "269/269 [==============================] - 9s 34ms/step - loss: 6.9426 - accuracy: 0.0643\n",
            "Epoch 143/150\n",
            "269/269 [==============================] - 9s 34ms/step - loss: 6.9427 - accuracy: 0.0643\n",
            "Epoch 144/150\n",
            "269/269 [==============================] - 9s 34ms/step - loss: 6.9426 - accuracy: 0.0643\n",
            "Epoch 145/150\n",
            "269/269 [==============================] - 9s 34ms/step - loss: 6.9426 - accuracy: 0.0643\n",
            "Epoch 146/150\n",
            "269/269 [==============================] - 9s 35ms/step - loss: 6.9426 - accuracy: 0.0643\n",
            "Epoch 147/150\n",
            "269/269 [==============================] - 9s 34ms/step - loss: 6.9426 - accuracy: 0.0643\n",
            "Epoch 148/150\n",
            "269/269 [==============================] - 9s 34ms/step - loss: 6.9425 - accuracy: 0.0643\n",
            "Epoch 149/150\n",
            "269/269 [==============================] - 9s 34ms/step - loss: 6.9427 - accuracy: 0.0643\n",
            "Epoch 150/150\n",
            "269/269 [==============================] - 9s 34ms/step - loss: 6.9426 - accuracy: 0.0643\n"
          ]
        },
        {
          "output_type": "execute_result",
          "data": {
            "text/plain": [
              "<keras.src.callbacks.History at 0x79796c1c77f0>"
            ]
          },
          "metadata": {},
          "execution_count": 44
        }
      ]
    },
    {
      "cell_type": "code",
      "source": [],
      "metadata": {
        "id": "s9oiccNCpP-I"
      },
      "execution_count": null,
      "outputs": []
    },
    {
      "cell_type": "code",
      "source": [],
      "metadata": {
        "id": "hli9gkCepQCn"
      },
      "execution_count": null,
      "outputs": []
    },
    {
      "cell_type": "code",
      "source": [],
      "metadata": {
        "id": "nRywHcxspQHh"
      },
      "execution_count": null,
      "outputs": []
    },
    {
      "cell_type": "code",
      "source": [],
      "metadata": {
        "id": "rYb_RmBTpQKE"
      },
      "execution_count": null,
      "outputs": []
    },
    {
      "cell_type": "code",
      "source": [],
      "metadata": {
        "id": "fWxqHRA0pQMb"
      },
      "execution_count": null,
      "outputs": []
    },
    {
      "cell_type": "code",
      "source": [],
      "metadata": {
        "id": "v0vwzrUdpQPj"
      },
      "execution_count": null,
      "outputs": []
    },
    {
      "cell_type": "code",
      "source": [],
      "metadata": {
        "id": "rr-0XKXopQRu"
      },
      "execution_count": null,
      "outputs": []
    }
  ]
}